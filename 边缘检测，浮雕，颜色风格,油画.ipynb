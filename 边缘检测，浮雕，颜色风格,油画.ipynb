{
 "cells": [
  {
   "cell_type": "code",
   "execution_count": 1,
   "metadata": {},
   "outputs": [
    {
     "data": {
      "text/plain": [
       "-1"
      ]
     },
     "execution_count": 1,
     "metadata": {},
     "output_type": "execute_result"
    }
   ],
   "source": [
    "#边缘检测\n",
    "import cv2\n",
    "import numpy as np\n",
    "import random\n",
    "img=cv2.imread('xze.jpg',1)\n",
    "imgInfo=img.shape\n",
    "height=imgInfo[0]\n",
    "width=imgInfo[1]\n",
    "cv2.imshow('img',img)\n",
    "cv2.waitKey(0)\n",
    "#canny 1 gray 2 高斯滤波 3 canny\n",
    "gray=cv2.cvtColor(img,cv2.COLOR_BGR2GRAY)\n",
    "imgG=cv2.GaussianBlur(gray,(3,3),0)#高斯滤波\n",
    "dst=cv2.Canny(imgG,50,50)#1 data 2 门限th 图片卷积运算之后大于此值为边缘点\n",
    "cv2.imshow('img',dst)\n",
    "cv2.waitKey(0)"
   ]
  },
  {
   "cell_type": "code",
   "execution_count": 3,
   "metadata": {},
   "outputs": [
    {
     "data": {
      "text/plain": [
       "-1"
      ]
     },
     "execution_count": 3,
     "metadata": {},
     "output_type": "execute_result"
    }
   ],
   "source": [
    "#边缘检测源码\n",
    "#sobel 1 算子模板 2 图片卷积 3 阈值判决\n",
    "'''\n",
    "[1  2  1      [1  0  -1\n",
    " 0  0  0       2  0  -2\n",
    "-1 -2 -1]      1  0  -1]\n",
    "\n",
    "[1 2 3 4][a b c d] a+2b+3c+4d=dst\n",
    "梯度 sqrt(a*a+b*b)=f>th      a b 为两个算子与图片卷积得到\n",
    "'''\n",
    "import cv2\n",
    "import numpy as np\n",
    "import random\n",
    "import math\n",
    "img=cv2.imread('xze.jpg',1)\n",
    "imgInfo=img.shape\n",
    "height=imgInfo[0]\n",
    "width=imgInfo[1]\n",
    "cv2.imshow('img',img)\n",
    "cv2.waitKey(0)\n",
    "#canny 1 gray 2 高斯滤波 3 canny\n",
    "gray=cv2.cvtColor(img,cv2.COLOR_BGR2GRAY)\n",
    "dst=np.zeros((height,width,3),np.uint8)\n",
    "for i in range(0,height-2):\n",
    "    for j in range(0,width-2):\n",
    "        gx=gray[i,j]*1+gray[i,j+1]*2+gray[i,j+2]*1+gray[i+2,j]*(-1)+gray[i+2,j+1]*(-2)+gray[i+2,j+2]*(-1)\n",
    "        gy=gray[i,j]*1+gray[i,j+2]*(-1)+gray[i+1,j]*2+gray[i+1,j+2]*(-2)+gray[i+2,j]*1+gray[i+2,j+2]*(-1)\n",
    "        grad=math.sqrt(gx*gx+gy*gy)\n",
    "        if grad>50:\n",
    "            dst[i,j]=255\n",
    "        else:\n",
    "            dst[i,j]=0\n",
    "cv2.imshow('img',dst)\n",
    "cv2.waitKey(0)\n"
   ]
  },
  {
   "cell_type": "code",
   "execution_count": 1,
   "metadata": {},
   "outputs": [
    {
     "data": {
      "text/plain": [
       "-1"
      ]
     },
     "execution_count": 1,
     "metadata": {},
     "output_type": "execute_result"
    }
   ],
   "source": [
    "#浮雕效果 newP=相邻像素之差(突出灰度边缘特征)+150\n",
    "import cv2\n",
    "import numpy as np\n",
    "img=cv2.imread('xze.jpg',1)\n",
    "imgInfo=img.shape\n",
    "height=imgInfo[0]\n",
    "width=imgInfo[1]\n",
    "gray=cv2.cvtColor(img,cv2.COLOR_BGR2GRAY)\n",
    "dst=np.zeros((height,width,1),np.uint8)\n",
    "for i in range(0,height):\n",
    "    for j in range(0,width-1):\n",
    "        grayP0=int (gray[i,j])\n",
    "        grayP1=int (gray[i,j+1])\n",
    "        newP=grayP0-grayP1+150\n",
    "        if newP>255:\n",
    "            newP=255\n",
    "        if newP<0:\n",
    "            newP=0\n",
    "        dst[i,j]=newP\n",
    "cv2.imshow('img',dst)\n",
    "cv2.waitKey(0)"
   ]
  },
  {
   "cell_type": "code",
   "execution_count": 2,
   "metadata": {},
   "outputs": [
    {
     "data": {
      "text/plain": [
       "-1"
      ]
     },
     "execution_count": 2,
     "metadata": {},
     "output_type": "execute_result"
    }
   ],
   "source": [
    "#颜色映射\n",
    "import cv2\n",
    "import numpy as np\n",
    "img=cv2.imread('xze.jpg',1)\n",
    "imgInfo=img.shape\n",
    "height=imgInfo[0]\n",
    "width=imgInfo[1]\n",
    "#b=b*1.5  g=g*1.3\n",
    "dst=np.zeros((height,width,3),np.uint8)\n",
    "for i in range(0,height):\n",
    "    for j in range(0,width-1):\n",
    "        (b,g,r)=img[i,j]\n",
    "        b=b*1.5\n",
    "        g=g*1.3\n",
    "        if b>255:\n",
    "            b=255\n",
    "        if g>255:\n",
    "            g=255\n",
    "        dst[i,j]=(b,g,r)\n",
    "cv2.imshow('img',dst)\n",
    "cv2.waitKey(0)"
   ]
  },
  {
   "cell_type": "code",
   "execution_count": 3,
   "metadata": {},
   "outputs": [
    {
     "data": {
      "text/plain": [
       "-1"
      ]
     },
     "execution_count": 3,
     "metadata": {},
     "output_type": "execute_result"
    }
   ],
   "source": [
    "#油画效果 1 gray 2 将图片分成方块 3  0-255 256映射不同等级 4 count 5 dst= result\n",
    "import cv2\n",
    "import numpy as np\n",
    "img=cv2.imread('xze.jpg',1)\n",
    "cv2.imshow('img1',img)\n",
    "imgInfo=img.shape\n",
    "height=imgInfo[0]\n",
    "width=imgInfo[1]\n",
    "gray=cv2.cvtColor(img,cv2.COLOR_BGR2GRAY)\n",
    "dst=np.zeros((height,width,3),np.uint8)\n",
    "for i in range(4,height-4):\n",
    "    for j in range(4,width-4):\n",
    "        array1=np.zeros(8,np.uint8)\n",
    "        for m in range (-4,4):\n",
    "            for n in range (-4,4):\n",
    "                p1=int(gray[i+m,j+n]/32)\n",
    "                array1[p1]=array1[p1]+1\n",
    "        currentMax=array1[0]\n",
    "        l=0\n",
    "        for k in range(0,8):\n",
    "            if currentMax<array1[k]:\n",
    "                currentMax<array1[k]\n",
    "                l=k\n",
    "        for m in range (-4,4):\n",
    "            for n in range (-4,4):\n",
    "                if gray[i+m,j+n]>=(l*32) and gray[i+m,j+n]<=(l+1)*32:\n",
    "                    (b,g,r)=img[i+m,j+n]\n",
    "            dst[i,j]=(b,g,r)      \n",
    "cv2.imshow('img',dst)\n",
    "cv2.waitKey(0)"
   ]
  },
  {
   "cell_type": "code",
   "execution_count": null,
   "metadata": {},
   "outputs": [],
   "source": []
  }
 ],
 "metadata": {
  "kernelspec": {
   "display_name": "Python 3",
   "language": "python",
   "name": "python3"
  },
  "language_info": {
   "codemirror_mode": {
    "name": "ipython",
    "version": 3
   },
   "file_extension": ".py",
   "mimetype": "text/x-python",
   "name": "python",
   "nbconvert_exporter": "python",
   "pygments_lexer": "ipython3",
   "version": "3.7.0"
  }
 },
 "nbformat": 4,
 "nbformat_minor": 5
}
