{
 "cells": [
  {
   "cell_type": "code",
   "execution_count": 3,
   "id": "opposed-wedding",
   "metadata": {},
   "outputs": [
    {
     "data": {
      "text/plain": [
       "-1"
      ]
     },
     "execution_count": 3,
     "metadata": {},
     "output_type": "execute_result"
    }
   ],
   "source": [
    "import cv2\n",
    "import numpy as np\n",
    "newImageInfo=(500,500,3)\n",
    "dst=np.zeros((newImageInfo),np.uint8)\n",
    "#line 1 dst 2 begin 3 end 4 color 5 width 6 线条光滑等\n",
    "cv2.line(dst,(100,100),(400,400),(0,0,255),20)\n",
    "cv2.line(dst,(100,300),(400,300),(0,255,0),20,cv2.LINE_AA)\n",
    "cv2.imshow('img',dst)\n",
    "cv2.waitKey(0)"
   ]
  },
  {
   "cell_type": "code",
   "execution_count": 9,
   "id": "refined-commissioner",
   "metadata": {},
   "outputs": [
    {
     "data": {
      "text/plain": [
       "-1"
      ]
     },
     "execution_count": 9,
     "metadata": {},
     "output_type": "execute_result"
    }
   ],
   "source": [
    "#矩形\n",
    "import cv2\n",
    "import numpy as np\n",
    "newImageInfo=(500,500,3)\n",
    "dst=np.zeros((newImageInfo),np.uint8)\n",
    "#line 1 dst 2 begin 3 end 4 color 5 width 6 线条光滑等\n",
    "cv2.rectangle(dst,(50,100),(200,300),(0,0,255),-1)# 1 data 2 左上 3右下 4 color 5 fill\n",
    "cv2.circle(dst,(250,250),50,(255,255,0),2)# 1 data 2 center 3 r 4 color 5 fill\n",
    "cv2.ellipse(dst,(256,256),(150,100),0,0,180,(255,0,255),-1)#1 data 2 center 3 axis 4 angle 5 begin 6 end 7 color 8 fill \n",
    "points=np.array([[150,50],[140,140],[200,170],[250,250],[150,50]],np.int32)\n",
    "points=points.reshape((-1,1,2))\n",
    "cv2.polylines(dst,[points],True,(0,255,255))\n",
    "cv2.imshow('img',dst)\n",
    "cv2.waitKey(0)"
   ]
  },
  {
   "cell_type": "code",
   "execution_count": 10,
   "id": "incredible-village",
   "metadata": {},
   "outputs": [
    {
     "data": {
      "text/plain": [
       "-1"
      ]
     },
     "execution_count": 10,
     "metadata": {},
     "output_type": "execute_result"
    }
   ],
   "source": [
    "#文字\n",
    "import cv2\n",
    "import numpy as np\n",
    "img=cv2.imread('Sketchpad.png',1)\n",
    "font=cv2.FONT_HERSHEY_SIMPLEX\n",
    "cv2.rectangle(img,(200,100),(500,400),(0,255,0),3)\n",
    "cv2.putText(img,'this is flow',(100,300),font,1,(200,100,255),2,cv2.LINE_AA)\n",
    "#1 data 2 text 3 begin 4 font 5 size 6 color 7 thin 8 line type\n",
    "cv2.imshow('img',img)\n",
    "cv2.waitKey(0)"
   ]
  },
  {
   "cell_type": "code",
   "execution_count": 11,
   "id": "adolescent-acoustic",
   "metadata": {},
   "outputs": [
    {
     "data": {
      "text/plain": [
       "-1"
      ]
     },
     "execution_count": 11,
     "metadata": {},
     "output_type": "execute_result"
    }
   ],
   "source": [
    "import cv2\n",
    "\n",
    "img=cv2.imread('Sketchpad.png',1)\n",
    "height=int(img.shape[0]/2)\n",
    "width=int(img.shape[1]/2)\n",
    "imgResize=cv2.resize(img,(width,height))\n",
    "for i in range(0,height):\n",
    "    for j in range(0,width):\n",
    "        img[i+200,j+350]=imgResize[i,j]\n",
    "cv2.imshow('img',img)\n",
    "cv2.waitKey(0)"
   ]
  },
  {
   "cell_type": "code",
   "execution_count": null,
   "id": "elder-directory",
   "metadata": {},
   "outputs": [],
   "source": []
  }
 ],
 "metadata": {
  "kernelspec": {
   "display_name": "Python 3",
   "language": "python",
   "name": "python3"
  },
  "language_info": {
   "codemirror_mode": {
    "name": "ipython",
    "version": 3
   },
   "file_extension": ".py",
   "mimetype": "text/x-python",
   "name": "python",
   "nbconvert_exporter": "python",
   "pygments_lexer": "ipython3",
   "version": "3.7.9"
  }
 },
 "nbformat": 4,
 "nbformat_minor": 5
}
