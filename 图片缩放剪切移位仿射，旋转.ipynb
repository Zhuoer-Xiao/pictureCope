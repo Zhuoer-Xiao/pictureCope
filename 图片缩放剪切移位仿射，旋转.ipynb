{
 "cells": [
  {
   "cell_type": "code",
   "execution_count": 9,
   "id": "operating-prescription",
   "metadata": {},
   "outputs": [
    {
     "name": "stdout",
     "output_type": "stream",
     "text": [
      "(1084, 1918, 3)\n"
     ]
    },
    {
     "data": {
      "text/plain": [
       "-1"
      ]
     },
     "execution_count": 9,
     "metadata": {},
     "output_type": "execute_result"
    }
   ],
   "source": [
    "import cv2\n",
    "img=cv2.imread('Sketchpad.png',1)\n",
    "imgInfo=img.shape\n",
    "print(imgInfo)\n",
    "height=imgInfo[0]\n",
    "width=imgInfo[1]\n",
    "mode=imgInfo[2]\n",
    "#放大\n",
    "dstHeight=int(height*0.5)\n",
    "dstWidth=int(width*0.5)\n",
    "#最近临域插值  双线性插值-默认 像素关系重采样 立方插值\n",
    "dst=cv2.resize(img,(dstWidth,dstHeight))\n",
    "cv2.imshow('image',dst)\n",
    "cv2.waitKey(0)"
   ]
  },
  {
   "cell_type": "code",
   "execution_count": null,
   "id": "golden-rates",
   "metadata": {},
   "outputs": [],
   "source": [
    "#最近临域插值  双线性插值 原理\n",
    "#src 10*20 dst 5*10\n",
    "#dst<-src\n",
    "#(1，2)<-(2,4)\n",
    "#dst x->src x 2 newX\n",
    "#newX=x*(src行/dst行)=1*(10/5)\n",
    "#y同理\n",
    "\n",
    "#最近临域插值\n",
    "#若结果为小数，如12.3，取最近的12，叫做\n",
    "\n",
    "#双线性插值\n",
    "#(15.2,22.3)\n",
    "#先进行水平竖直投影，根据权重计算\n",
    "#A1=0.2下*+0.8*上\n",
    "#A2同理\n",
    "#再根据A1 A2权重算B1 B2"
   ]
  },
  {
   "cell_type": "code",
   "execution_count": 1,
   "id": "hungarian-river",
   "metadata": {},
   "outputs": [
    {
     "name": "stdout",
     "output_type": "stream",
     "text": [
      "(200, 200, 3)\n"
     ]
    },
    {
     "data": {
      "text/plain": [
       "-1"
      ]
     },
     "execution_count": 1,
     "metadata": {},
     "output_type": "execute_result"
    }
   ],
   "source": [
    "#1 计算info  2 创建空白模板  3 计算xy像素值\n",
    "import cv2\n",
    "import numpy as np\n",
    "img=cv2.imread('picture1.jpg',1)\n",
    "imgInfo=img.shape\n",
    "print(imgInfo)\n",
    "height=imgInfo[0]\n",
    "width=imgInfo[1]\n",
    "mode=imgInfo[2]\n",
    "dstHeight=int(height*0.5)\n",
    "dstWidth=int(width*0.5)\n",
    "dst=np.zeros((dstHeight,dstWidth,3),np.uint8)\n",
    "for i in range(0,dstHeight):\n",
    "    for j in range(0,dstWidth):\n",
    "        iNew=int(i*(height*1.0/dstHeight))\n",
    "        jNew=int(j*(width*1.0/dstWidth))\n",
    "        dst[i,j]=img[iNew,jNew]\n",
    "cv2.imshow('image',dst)\n",
    "cv2.waitKey(0)"
   ]
  },
  {
   "cell_type": "code",
   "execution_count": 5,
   "id": "danish-branch",
   "metadata": {},
   "outputs": [
    {
     "name": "stdout",
     "output_type": "stream",
     "text": [
      "(200, 200, 3)\n"
     ]
    },
    {
     "data": {
      "text/plain": [
       "-1"
      ]
     },
     "execution_count": 5,
     "metadata": {},
     "output_type": "execute_result"
    }
   ],
   "source": [
    "import cv2\n",
    "import numpy as np\n",
    "img=cv2.imread('picture1.jpg',1)\n",
    "imgInfo=img.shape\n",
    "print(imgInfo)\n",
    "height=imgInfo[0]\n",
    "width=imgInfo[1]\n",
    "mode=imgInfo[2]\n",
    "dstHeight=100\n",
    "dstWidth=100\n",
    "dst=np.zeros((dstHeight,dstWidth,3),np.uint8)\n",
    "for i in range(0,dstHeight):\n",
    "    for j in range(0,dstWidth):\n",
    "        iNew=i\n",
    "        jNew=j\n",
    "        dst[i,j]=img[iNew,jNew]\n",
    "cv2.imshow('image',dst)\n",
    "cv2.waitKey(0)"
   ]
  },
  {
   "cell_type": "code",
   "execution_count": 3,
   "id": "supreme-renewal",
   "metadata": {},
   "outputs": [
    {
     "data": {
      "text/plain": [
       "-1"
      ]
     },
     "execution_count": 3,
     "metadata": {},
     "output_type": "execute_result"
    }
   ],
   "source": [
    "import cv2\n",
    "import numpy as np\n",
    "img=cv2.imread('Sketchpad.png',1)\n",
    "cv2.imshow('image1',img)\n",
    "imgInfo=img.shape\n",
    "height=imgInfo[0]\n",
    "width=imgInfo[1]\n",
    "mode=imgInfo[2]\n",
    "matShift=np.float32([[1,0,100],[0,1,200]])\n",
    "dst=cv2.warpAffine(img,matShift,(height,width))#1 data 2 mat 3 info\n",
    "cv2.imshow('image2',dst)\n",
    "cv2.waitKey(0)\n",
    "#水平移动100像素，竖直移动200像素"
   ]
  },
  {
   "cell_type": "code",
   "execution_count": null,
   "id": "humanitarian-steering",
   "metadata": {},
   "outputs": [],
   "source": [
    "#[[1,0,100],[0,1,200]]\n",
    "#[[1,0],[0,1]] A\n",
    "#[100,200] B\n",
    "#xy C\n",
    "import cv2\n",
    "import numpy as np\n",
    "img=cv2.imread('picture1.jpg',1)\n",
    "cv2.imshow('image1',img)\n",
    "imgInfo=img.shape\n",
    "height=imgInfo[0]\n",
    "width=imgInfo[1]\n",
    "moveHeight=20\n",
    "moveWidth=20\n",
    "dstHeight=height-moveHeight\n",
    "dstWidth=width-moveWidth\n",
    "dst=np.zeros(img.shape,np.uint8)\n",
    "for i in range(0,dstHeight):\n",
    "    for j in range(0,dstWidth):\n",
    "        iNew=i+moveHeight\n",
    "        jNew=j+moveWidth\n",
    "        dst[i,j]=img[iNew,jNew]\n",
    "cv2.imshow('image2',dst)\n",
    "cv2.waitKey(0)"
   ]
  },
  {
   "cell_type": "code",
   "execution_count": 4,
   "id": "worth-delta",
   "metadata": {},
   "outputs": [
    {
     "name": "stdout",
     "output_type": "stream",
     "text": [
      "(200, 200, 3)\n"
     ]
    },
    {
     "data": {
      "text/plain": [
       "-1"
      ]
     },
     "execution_count": 4,
     "metadata": {},
     "output_type": "execute_result"
    }
   ],
   "source": [
    "#图片镜像\n",
    "import cv2\n",
    "import numpy as np\n",
    "img=cv2.imread('picture1.jpg',1)\n",
    "imgInfo=img.shape\n",
    "print(imgInfo)\n",
    "height=imgInfo[0]\n",
    "width=imgInfo[1]\n",
    "mode=imgInfo[2]\n",
    "dstHeight=height*2\n",
    "dstWidth=width\n",
    "dst=np.zeros((dstHeight,dstWidth,3),np.uint8)\n",
    "for i in range(0,height):\n",
    "    for j in range(0,dstWidth):\n",
    "        dst[i,j]=img[i,j]\n",
    "        dst[height*2-i-1,j]=img[i,j]\n",
    "for i in range(0,width):\n",
    "    dst[height,i]=(0,0,255)\n",
    "cv2.imshow('image2',dst)\n",
    "cv2.waitKey(0)"
   ]
  },
  {
   "cell_type": "code",
   "execution_count": 5,
   "id": "southeast-device",
   "metadata": {},
   "outputs": [
    {
     "data": {
      "text/plain": [
       "-1"
      ]
     },
     "execution_count": 5,
     "metadata": {},
     "output_type": "execute_result"
    }
   ],
   "source": [
    "#缩放\n",
    "import cv2\n",
    "import numpy as np\n",
    "img=cv2.imread('Sketchpad.png',1)\n",
    "cv2.imshow('image1',img)\n",
    "imgInfo=img.shape\n",
    "height=imgInfo[0]\n",
    "width=imgInfo[1]\n",
    "mode=imgInfo[2]\n",
    "matShift=np.float32([[0.5,0,0],[0,0.5,0]])\n",
    "dst=cv2.warpAffine(img,matShift,(height,width))#1 data 2 mat 3 info\n",
    "cv2.imshow('image2',dst)\n",
    "cv2.waitKey(0)"
   ]
  },
  {
   "cell_type": "code",
   "execution_count": 6,
   "id": "pregnant-mainstream",
   "metadata": {},
   "outputs": [
    {
     "data": {
      "text/plain": [
       "-1"
      ]
     },
     "execution_count": 6,
     "metadata": {},
     "output_type": "execute_result"
    }
   ],
   "source": [
    "#仿射变换\n",
    "import cv2\n",
    "import numpy as np\n",
    "img=cv2.imread('Sketchpad.png',1)\n",
    "cv2.imshow('image1',img)\n",
    "imgInfo=img.shape\n",
    "height=imgInfo[0]\n",
    "width=imgInfo[1]\n",
    "#src 3->dst 3 (左上，左下，右上)\n",
    "matSrc=np.float32([[0,0],[0,height-1],[width-1,0]])\n",
    "matDst=np.float32([[50,50],[300,height-200],[width-300,100]])\n",
    "matAffine=cv2.getAffineTransform(matSrc,matDst)#mat  1 src  2 dst\n",
    "dst=cv2.warpAffine(img,matAffine,(height,width))\n",
    "cv2.imshow('image2',dst)\n",
    "cv2.waitKey(0)"
   ]
  },
  {
   "cell_type": "code",
   "execution_count": 7,
   "id": "willing-acquisition",
   "metadata": {},
   "outputs": [
    {
     "data": {
      "text/plain": [
       "-1"
      ]
     },
     "execution_count": 7,
     "metadata": {},
     "output_type": "execute_result"
    }
   ],
   "source": [
    "#旋转\n",
    "import cv2\n",
    "import numpy as np\n",
    "img=cv2.imread('Sketchpad.png',1)\n",
    "cv2.imshow('image1',img)\n",
    "imgInfo=img.shape\n",
    "height=imgInfo[0]\n",
    "width=imgInfo[1]\n",
    "matRotate=cv2.getRotationMatrix2D((height*0.5,width*0.5),45,0.5)#1 center 2 angle 3 缩放系数\n",
    "dst=cv2.warpAffine(img,matRotate,(height,width))\n",
    "cv2.imshow('image2',dst)\n",
    "cv2.waitKey(0)"
   ]
  },
  {
   "cell_type": "code",
   "execution_count": null,
   "id": "genuine-basin",
   "metadata": {},
   "outputs": [],
   "source": []
  }
 ],
 "metadata": {
  "kernelspec": {
   "display_name": "Python 3",
   "language": "python",
   "name": "python3"
  },
  "language_info": {
   "codemirror_mode": {
    "name": "ipython",
    "version": 3
   },
   "file_extension": ".py",
   "mimetype": "text/x-python",
   "name": "python",
   "nbconvert_exporter": "python",
   "pygments_lexer": "ipython3",
   "version": "3.7.9"
  }
 },
 "nbformat": 4,
 "nbformat_minor": 5
}
