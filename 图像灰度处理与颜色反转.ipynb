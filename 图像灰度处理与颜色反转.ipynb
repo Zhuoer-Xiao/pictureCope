{
 "cells": [
  {
   "cell_type": "code",
   "execution_count": 6,
   "id": "durable-illness",
   "metadata": {},
   "outputs": [
    {
     "name": "stdout",
     "output_type": "stream",
     "text": [
      "(409, 449, 3)\n"
     ]
    },
    {
     "data": {
      "text/plain": [
       "-1"
      ]
     },
     "execution_count": 6,
     "metadata": {},
     "output_type": "execute_result"
    }
   ],
   "source": [
    "#调用api\n",
    "import cv2\n",
    "import numpy as np\n",
    "img1=cv2.imread('xze.jpg',1)\n",
    "imgInfo=img.shape\n",
    "print(imgInfo)\n",
    "height=imgInfo[0]\n",
    "width=imgInfo[1]\n",
    "deep=imgInfo[2]\n",
    "dst=cv2.cvtColor(img1,cv2.COLOR_BGR2GRAY)#颜色空间转化 1 data 2 way\n",
    "cv2.imshow('img',dst)\n",
    "cv2.waitKey(0)"
   ]
  },
  {
   "cell_type": "code",
   "execution_count": 11,
   "id": "according-universe",
   "metadata": {},
   "outputs": [
    {
     "name": "stdout",
     "output_type": "stream",
     "text": [
      "(409, 449, 3)\n"
     ]
    },
    {
     "data": {
      "text/plain": [
       "-1"
      ]
     },
     "execution_count": 11,
     "metadata": {},
     "output_type": "execute_result"
    }
   ],
   "source": [
    "#源码\n",
    "import cv2\n",
    "import numpy as np\n",
    "img=cv2.imread('xze.jpg',1)\n",
    "imgInfo=img.shape\n",
    "print(imgInfo)\n",
    "height=imgInfo[0]\n",
    "width=imgInfo[1]\n",
    "deep=imgInfo[2]\n",
    "dst=np.zeros((height,width,3),np.uint8)\n",
    "for i in range(0,height):\n",
    "    for j in range(0,width):\n",
    "        (b,g,r)=img[i,j]\n",
    "#         dst[i,j]=(int(b)+int(g)+int(r))/3\n",
    "        dst[i,j]=(r*0.299+g*0.587+b*0.114)\n",
    "cv2.imshow('img',dst)\n",
    "cv2.waitKey(0)"
   ]
  },
  {
   "cell_type": "code",
   "execution_count": 13,
   "id": "stainless-astronomy",
   "metadata": {},
   "outputs": [
    {
     "name": "stdout",
     "output_type": "stream",
     "text": [
      "(409, 449, 3)\n"
     ]
    },
    {
     "data": {
      "text/plain": [
       "-1"
      ]
     },
     "execution_count": 13,
     "metadata": {},
     "output_type": "execute_result"
    }
   ],
   "source": [
    "#颜色反转 源码\n",
    "import cv2\n",
    "import numpy as np\n",
    "img=cv2.imread('xze.jpg',1)\n",
    "imgInfo=img.shape\n",
    "print(imgInfo)\n",
    "height=imgInfo[0]\n",
    "width=imgInfo[1]\n",
    "deep=imgInfo[2]\n",
    "dst=np.zeros((height,width,3),np.uint8)\n",
    "for i in range(0,height):\n",
    "    for j in range(0,width):\n",
    "        (b,g,r)=img[i,j]\n",
    "        dst[i,j]=(255-r,255-g,255-b)\n",
    "cv2.imshow('img',dst)\n",
    "cv2.waitKey(0)"
   ]
  },
  {
   "cell_type": "code",
   "execution_count": 15,
   "id": "aggregate-robinson",
   "metadata": {},
   "outputs": [
    {
     "name": "stdout",
     "output_type": "stream",
     "text": [
      "(409, 449, 3)\n"
     ]
    },
    {
     "data": {
      "text/plain": [
       "-1"
      ]
     },
     "execution_count": 15,
     "metadata": {},
     "output_type": "execute_result"
    }
   ],
   "source": [
    "import cv2\n",
    "import numpy as np\n",
    "img=cv2.imread('xze.jpg',1)\n",
    "imgInfo=img.shape\n",
    "print(imgInfo)\n",
    "height=imgInfo[0]\n",
    "width=imgInfo[1]\n",
    "deep=imgInfo[2]\n",
    "gray=cv2.cvtColor(img,cv2.COLOR_BGR2GRAY)\n",
    "dst=np.zeros((height,width,1),np.uint8)\n",
    "for i in range(0,height):\n",
    "    for j in range(0,width):\n",
    "        x=gray[i,j]\n",
    "        dst[i,j]=255-x\n",
    "cv2.imshow('img',dst)\n",
    "cv2.waitKey(0)"
   ]
  },
  {
   "cell_type": "code",
   "execution_count": 17,
   "id": "younger-business",
   "metadata": {},
   "outputs": [
    {
     "name": "stdout",
     "output_type": "stream",
     "text": [
      "(409, 449, 3)\n"
     ]
    },
    {
     "data": {
      "text/plain": [
       "-1"
      ]
     },
     "execution_count": 17,
     "metadata": {},
     "output_type": "execute_result"
    }
   ],
   "source": [
    "#mosaic\n",
    "import cv2\n",
    "import numpy as np\n",
    "img=cv2.imread('xze.jpg',1)\n",
    "imgInfo=img.shape\n",
    "print(imgInfo)\n",
    "height=imgInfo[0]\n",
    "width=imgInfo[1]\n",
    "deep=imgInfo[2]\n",
    "for m in range(100,200):\n",
    "    for n in range(100,200):\n",
    "        if m%10==0 and n%10==0:\n",
    "            for i in range(0,10):\n",
    "                for j in range(0,10):\n",
    "                    (b,g,r)=img[m,n]\n",
    "                    img[i+m,j+n]=(b,g,r)\n",
    "cv2.imshow('img',img)\n",
    "cv2.waitKey(0)"
   ]
  },
  {
   "cell_type": "code",
   "execution_count": 23,
   "id": "dramatic-portal",
   "metadata": {},
   "outputs": [
    {
     "name": "stdout",
     "output_type": "stream",
     "text": [
      "(409, 449, 3)\n"
     ]
    },
    {
     "data": {
      "text/plain": [
       "-1"
      ]
     },
     "execution_count": 23,
     "metadata": {},
     "output_type": "execute_result"
    }
   ],
   "source": [
    "#毛玻璃\n",
    "import random\n",
    "import cv2\n",
    "import numpy as np\n",
    "img=cv2.imread('xze.jpg',1)\n",
    "imgInfo=img.shape\n",
    "print(imgInfo)\n",
    "height=imgInfo[0]\n",
    "width=imgInfo[1]\n",
    "deep=imgInfo[2]\n",
    "dst=np.zeros((height,width,3),np.uint8)\n",
    "for m in range(0,height-8):\n",
    "    for n in range(0,width-8):\n",
    "            index=int(random.random()*8)\n",
    "            (b,g,r)=img[m+index,n+index]\n",
    "            dst[m,n]=(b,g,r)\n",
    "cv2.imshow('img',dst)\n",
    "cv2.waitKey(0)"
   ]
  },
  {
   "cell_type": "code",
   "execution_count": 3,
   "id": "classical-removal",
   "metadata": {},
   "outputs": [
    {
     "name": "stdout",
     "output_type": "stream",
     "text": [
      "(409, 449, 3)\n"
     ]
    },
    {
     "ename": "error",
     "evalue": "OpenCV(4.5.1) C:\\Users\\appveyor\\AppData\\Local\\Temp\\1\\pip-req-build-oduouqig\\opencv\\modules\\core\\src\\arithm.cpp:669: error: (-209:Sizes of input arguments do not match) The operation is neither 'array op array' (where arrays have the same size and the same number of channels), nor 'array op scalar', nor 'scalar op array' in function 'cv::arithm_op'\n",
     "output_type": "error",
     "traceback": [
      "\u001b[1;31m---------------------------------------------------------------------------\u001b[0m",
      "\u001b[1;31merror\u001b[0m                                     Traceback (most recent call last)",
      "\u001b[1;32m<ipython-input-3-e0cfd4f12b37>\u001b[0m in \u001b[0;36m<module>\u001b[1;34m\u001b[0m\n\u001b[0;32m     15\u001b[0m \u001b[0mimgRoi0\u001b[0m\u001b[1;33m=\u001b[0m\u001b[0mimg0\u001b[0m\u001b[1;33m[\u001b[0m\u001b[1;36m0\u001b[0m\u001b[1;33m:\u001b[0m\u001b[0mroiH\u001b[0m\u001b[1;33m,\u001b[0m\u001b[1;36m0\u001b[0m\u001b[1;33m:\u001b[0m\u001b[0mroiW\u001b[0m\u001b[1;33m]\u001b[0m\u001b[1;33m\u001b[0m\u001b[1;33m\u001b[0m\u001b[0m\n\u001b[0;32m     16\u001b[0m \u001b[0mdst\u001b[0m\u001b[1;33m=\u001b[0m\u001b[0mnp\u001b[0m\u001b[1;33m.\u001b[0m\u001b[0mzeros\u001b[0m\u001b[1;33m(\u001b[0m\u001b[1;33m(\u001b[0m\u001b[0mroiH\u001b[0m\u001b[1;33m,\u001b[0m\u001b[0mroiW\u001b[0m\u001b[1;33m,\u001b[0m\u001b[1;36m3\u001b[0m\u001b[1;33m)\u001b[0m\u001b[1;33m,\u001b[0m\u001b[0mnp\u001b[0m\u001b[1;33m.\u001b[0m\u001b[0muint8\u001b[0m\u001b[1;33m)\u001b[0m\u001b[1;33m\u001b[0m\u001b[1;33m\u001b[0m\u001b[0m\n\u001b[1;32m---> 17\u001b[1;33m \u001b[0mdst\u001b[0m\u001b[1;33m=\u001b[0m\u001b[0mcv2\u001b[0m\u001b[1;33m.\u001b[0m\u001b[0maddWeighted\u001b[0m\u001b[1;33m(\u001b[0m\u001b[0mimgRoi1\u001b[0m\u001b[1;33m,\u001b[0m\u001b[1;36m0.5\u001b[0m\u001b[1;33m,\u001b[0m\u001b[0mimgRoi0\u001b[0m\u001b[1;33m,\u001b[0m\u001b[1;36m0.5\u001b[0m\u001b[1;33m,\u001b[0m\u001b[1;36m0\u001b[0m\u001b[1;33m)\u001b[0m\u001b[1;31m#add src1*a+src2*(1-a)\u001b[0m\u001b[1;33m\u001b[0m\u001b[1;33m\u001b[0m\u001b[0m\n\u001b[0m\u001b[0;32m     18\u001b[0m \u001b[0mcv2\u001b[0m\u001b[1;33m.\u001b[0m\u001b[0mimshow\u001b[0m\u001b[1;33m(\u001b[0m\u001b[1;34m'img'\u001b[0m\u001b[1;33m,\u001b[0m\u001b[0mdst\u001b[0m\u001b[1;33m)\u001b[0m\u001b[1;33m\u001b[0m\u001b[1;33m\u001b[0m\u001b[0m\n\u001b[0;32m     19\u001b[0m \u001b[0mcv2\u001b[0m\u001b[1;33m.\u001b[0m\u001b[0mwaitKey\u001b[0m\u001b[1;33m(\u001b[0m\u001b[1;36m0\u001b[0m\u001b[1;33m)\u001b[0m\u001b[1;33m\u001b[0m\u001b[1;33m\u001b[0m\u001b[0m\n",
      "\u001b[1;31merror\u001b[0m: OpenCV(4.5.1) C:\\Users\\appveyor\\AppData\\Local\\Temp\\1\\pip-req-build-oduouqig\\opencv\\modules\\core\\src\\arithm.cpp:669: error: (-209:Sizes of input arguments do not match) The operation is neither 'array op array' (where arrays have the same size and the same number of channels), nor 'array op scalar', nor 'scalar op array' in function 'cv::arithm_op'\n"
     ]
    }
   ],
   "source": [
    "#图片融合 dst=src1*alpha+src2*(1-alpha)\n",
    "import cv2\n",
    "import numpy as np\n",
    "img1=cv2.imread('xze.jpg',1)\n",
    "img0=cv2.imread('xze.jpg',0)\n",
    "imgInfo=img1.shape\n",
    "print(imgInfo)\n",
    "height=imgInfo[0]\n",
    "width=imgInfo[1]\n",
    "deep=imgInfo[2]\n",
    "#ROI\n",
    "roiH=int(height/2)\n",
    "roiW=int(width/2)\n",
    "imgRoi1=img1[0:roiH,0:roiW]\n",
    "imgRoi0=img0[0:roiH,0:roiW]\n",
    "dst=np.zeros((roiH,roiW,3),np.uint8)\n",
    "dst=cv2.addWeighted(imgRoi1,0.5,imgRoi0,0.5,0)#add src1*a+src2*(1-a)\n",
    "cv2.imshow('img',dst)\n",
    "cv2.waitKey(0)"
   ]
  },
  {
   "cell_type": "code",
   "execution_count": null,
   "id": "asian-pointer",
   "metadata": {},
   "outputs": [],
   "source": []
  }
 ],
 "metadata": {
  "kernelspec": {
   "display_name": "Python 3",
   "language": "python",
   "name": "python3"
  },
  "language_info": {
   "codemirror_mode": {
    "name": "ipython",
    "version": 3
   },
   "file_extension": ".py",
   "mimetype": "text/x-python",
   "name": "python",
   "nbconvert_exporter": "python",
   "pygments_lexer": "ipython3",
   "version": "3.7.9"
  }
 },
 "nbformat": 4,
 "nbformat_minor": 5
}
