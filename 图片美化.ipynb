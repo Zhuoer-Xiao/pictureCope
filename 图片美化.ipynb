{
 "cells": [
  {
   "cell_type": "code",
   "execution_count": 8,
   "metadata": {},
   "outputs": [
    {
     "data": {
      "text/plain": [
       "-1"
      ]
     },
     "execution_count": 8,
     "metadata": {},
     "output_type": "execute_result"
    }
   ],
   "source": [
    "import cv2\n",
    "import numpy as np\n",
    "def ImageHist(image,type):\n",
    "    color=(255,255,255)\n",
    "    windowName='Gray'\n",
    "    if type==31:\n",
    "        color=(255,0,0)\n",
    "        windowName='B Hist'\n",
    "    elif type==32:\n",
    "        color=(0,255,0)\n",
    "        windowName='G Hist'\n",
    "    elif type==33:\n",
    "        color=(0,0,255)\n",
    "        windowName='R Hist'\n",
    "    hist=cv2.calcHist([image],[0],None,[256],[0.0,255.0])#1 img 2 通道 3 mask蒙版 4 size 5 像素值\n",
    "    minV,maxV,minL,maxL=cv2.minMaxLoc(hist)\n",
    "    histImg=np.zeros([256,256,3],np.uint8)\n",
    "    for h in range(256):\n",
    "        intenNormal=int(hist[h]*256/maxV)\n",
    "        cv2.line(histImg,(h,256),(h,256-intenNormal),color)\n",
    "    cv2.imshow(windowName,histImg)\n",
    "    return histImg\n",
    "img=cv2.imread('xze.jpg',1)\n",
    "(b,g,r)=cv2.split(img)\n",
    "bH=cv2.equalizeHist(b)\n",
    "gH=cv2.equalizeHist(g)\n",
    "rH=cv2.equalizeHist(r)\n",
    "channels=cv2.split(img)#获取通道RGB->R  G  B\n",
    "for i in range(0,3):\n",
    "    ImageHist(bH,31+i)\n",
    "for i in range(0,3):\n",
    "    ImageHist(gH,31+i)\n",
    "for i in range(0,3):\n",
    "    ImageHist(rH,31+i)\n",
    "cv2.waitKey(0)"
   ]
  },
  {
   "cell_type": "code",
   "execution_count": 6,
   "metadata": {},
   "outputs": [
    {
     "data": {
      "text/plain": [
       "-1"
      ]
     },
     "execution_count": 6,
     "metadata": {},
     "output_type": "execute_result"
    }
   ],
   "source": [
    "#直方图均衡化\n",
    "import cv2\n",
    "import numpy as np\n",
    "img=cv2.imread('picture1.jpg',1)\n",
    "gray=cv2.cvtColor(img,cv2.COLOR_BGR2GRAY)\n",
    "cv2.imshow('src',gray)\n",
    "dst=cv2.equalizeHist(gray)\n",
    "cv2.imshow('img',dst)\n",
    "cv2.waitKey(0)"
   ]
  },
  {
   "cell_type": "code",
   "execution_count": null,
   "metadata": {},
   "outputs": [],
   "source": [
    "#彩色直方图均衡化\n",
    "import cv2\n",
    "import numpy as np\n",
    "img=cv2.imread('xze.jpg',1)\n",
    "cv2.imshow('src',img)\n",
    "(b,g,r)=cv2.split(img)\n",
    "bH=cv2.equalizeHist(b)\n",
    "gH=cv2.equalizeHist(g)\n",
    "rH=cv2.equalizeHist(r)\n",
    "result=cv2.merge((bH,gH,rH))#通道合成\n",
    "cv2.imshow('img',result)\n",
    "cv2.waitKey(0)"
   ]
  },
  {
   "cell_type": "code",
   "execution_count": 2,
   "metadata": {},
   "outputs": [
    {
     "data": {
      "text/plain": [
       "-1"
      ]
     },
     "execution_count": 2,
     "metadata": {},
     "output_type": "execute_result"
    }
   ],
   "source": [
    "#YUV直方图均衡化\n",
    "import cv2\n",
    "import numpy as np\n",
    "img=cv2.imread('xze.jpg',1)\n",
    "imgYUV=cv2.cvtColor(img,cv2.COLOR_BGR2YCrCb)\n",
    "cv2.imshow('src',imgYUV)\n",
    "channelYUV=cv2.split(imgYUV)\n",
    "channelYUV[0]=cv2.equalizeHist(channelYUV[0])\n",
    "channelYUV[1]=cv2.equalizeHist(channelYUV[1])\n",
    "channelYUV[2]=cv2.equalizeHist(channelYUV[2])\n",
    "result=cv2.merge(channelYUV)\n",
    "cv2.imshow('img',result)\n",
    "cv2.waitKey(0)"
   ]
  },
  {
   "cell_type": "code",
   "execution_count": null,
   "metadata": {},
   "outputs": [],
   "source": [
    "#图片修补\n",
    "import cv2\n",
    "import numpy as np\n",
    "image=cv2.imread('xze.jpg',1)\n",
    "for i in range(200,300):\n",
    "    image[i,200]=(255,255,255)\n",
    "    image[i,200+1]=(255,255,255)\n",
    "    image[i,200-1]=(255,255,255)\n",
    "cv2.imshow('src',image)\n",
    "for i in range(150,250):\n",
    "    image[250,i]=(255,255,255)\n",
    "    image[250+1,i]=(255,255,255)\n",
    "    image[250-1,i]=(255,255,255)\n",
    "cv2.imshow('src',image)\n",
    "cv2.imwrite('damage.jpg',image)\n",
    "cv2.waitKey(0)"
   ]
  },
  {
   "cell_type": "code",
   "execution_count": null,
   "metadata": {},
   "outputs": [],
   "source": [
    "#1 坏图 2 坏图的部位 3 inpaint\n",
    "import cv2\n",
    "import numpy as np\n",
    "image=cv2.imread('damage.jpg',1)\n",
    "imgInfo=image.shape\n",
    "height=imgInfo[0]\n",
    "width=imgInfo[1]\n",
    "paint=np.zeros((height,width,1),np.uint8)\n",
    "for i in range(200,300):\n",
    "    paint[i,200]=255\n",
    "    paint[i,200+1]=255\n",
    "    paint[i,200-1]=255\n",
    "for i in range(150,250):\n",
    "    paint[250,i]=255\n",
    "    paint[250+1,i]=255\n",
    "    paint[250-1,i]=255\n",
    "imgdst=cv2.inpaint(image,paint,3,cv2.INPAINT_TELEA)\n",
    "cv2.imshow('src',image)\n",
    "cv2.imshow('paint',paint)\n",
    "cv2.imshow('DST',imgdst)\n",
    "cv2.waitKey(0)"
   ]
  },
  {
   "cell_type": "code",
   "execution_count": null,
   "metadata": {},
   "outputs": [],
   "source": [
    "#磨皮美白  双边滤波\n",
    "import cv2\n",
    "import numpy as np\n",
    "img=cv2.imread('xze.jpg',1)\n",
    "cv2.imshow('img',img)\n",
    "dst=cv2.bilateralFilter(img,15,35,35)\n",
    "cv2.imshow('dst',dst)\n",
    "cv2.waitKey(0)"
   ]
  },
  {
   "cell_type": "code",
   "execution_count": 3,
   "metadata": {},
   "outputs": [
    {
     "data": {
      "text/plain": [
       "-1"
      ]
     },
     "execution_count": 3,
     "metadata": {},
     "output_type": "execute_result"
    }
   ],
   "source": [
    "#高斯滤波\n",
    "import cv2\n",
    "import numpy as np\n",
    "img=cv2.imread('xze.jpg',1)\n",
    "cv2.imshow('img',img)\n",
    "dst=cv2.GaussianBlur(img,(5,5),1.5)\n",
    "cv2.imshow('dst',dst)\n",
    "cv2.waitKey(0)"
   ]
  },
  {
   "cell_type": "code",
   "execution_count": 4,
   "metadata": {},
   "outputs": [
    {
     "data": {
      "text/plain": [
       "-1"
      ]
     },
     "execution_count": 4,
     "metadata": {},
     "output_type": "execute_result"
    }
   ],
   "source": [
    "#均值滤波 6*6 1 \n",
    "import cv2\n",
    "import numpy as np\n",
    "img=cv2.imread('xze.jpg',1)\n",
    "cv2.imshow('img',img)\n",
    "imgInfo=img.shape\n",
    "height=imgInfo[0]\n",
    "width=imgInfo[1]\n",
    "dst=np.zeros((height,width,3),np.uint8)\n",
    "for i in range(3,height-3):\n",
    "    for j in range(3,width-3):\n",
    "        sumb=0\n",
    "        sumg=0\n",
    "        sumr=0\n",
    "        for m in range(-3,3):\n",
    "            for n in range(-3,3):\n",
    "                (b,g,r)=img[i+m,j+n]\n",
    "                sumb=sumb+int(b)\n",
    "                sumg=sumg+int(g)\n",
    "                sumr=sumr+int(r)\n",
    "            b=np.uint8(sumb/36)\n",
    "            g=np.uint8(sumg/36)\n",
    "            r=np.uint8(sumr/36)\n",
    "            dst[i,j]=(b,g,r)\n",
    "cv2.imshow('dst',dst)\n",
    "cv2.waitKey(0)"
   ]
  },
  {
   "cell_type": "code",
   "execution_count": null,
   "metadata": {},
   "outputs": [],
   "source": []
  },
  {
   "cell_type": "code",
   "execution_count": null,
   "metadata": {},
   "outputs": [],
   "source": []
  }
 ],
 "metadata": {
  "kernelspec": {
   "display_name": "Python 3",
   "language": "python",
   "name": "python3"
  },
  "language_info": {
   "codemirror_mode": {
    "name": "ipython",
    "version": 3
   },
   "file_extension": ".py",
   "mimetype": "text/x-python",
   "name": "python",
   "nbconvert_exporter": "python",
   "pygments_lexer": "ipython3",
   "version": "3.7.0"
  }
 },
 "nbformat": 4,
 "nbformat_minor": 5
}
