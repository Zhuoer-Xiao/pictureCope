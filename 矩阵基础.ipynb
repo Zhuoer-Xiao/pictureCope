{
 "cells": [
  {
   "cell_type": "code",
   "execution_count": 2,
   "metadata": {},
   "outputs": [
    {
     "name": "stdout",
     "output_type": "stream",
     "text": [
      "8.0\n"
     ]
    }
   ],
   "source": [
    "import tensorflow as tf\n",
    "data1=tf.placeholder(tf.float32)\n",
    "data2=tf.placeholder(tf.float32)\n",
    "dataADD=tf.add(data1,data2)\n",
    "with tf.Session() as sess:\n",
    "    print(sess.run(dataADD,feed_dict={data1:6,data2:2}))\n",
    "    #1 dataADD 2 需要追加的数据，语法：(feed_dict={1:,2:})"
   ]
  },
  {
   "cell_type": "code",
   "execution_count": 15,
   "metadata": {},
   "outputs": [
    {
     "name": "stdout",
     "output_type": "stream",
     "text": [
      "(3, 2)\n",
      "[[1 2]\n",
      " [3 4]\n",
      " [5 6]]\n",
      "[1 2]\n",
      "[1 3 5]\n",
      "1\n",
      "[2 4]\n"
     ]
    }
   ],
   "source": [
    "#矩阵类比为M×N的数组 [],首先写一个[],[]里面的[]数表明行数，填写数据表明列数\n",
    "import tensorflow as tf\n",
    "data1=tf.constant([[6,6]])\n",
    "data2=tf.constant([[2],\n",
    "                   [2]])\n",
    "data3=tf.constant([[3,3]])\n",
    "data4=tf.constant([[1,2],\n",
    "                   [3,4],\n",
    "                   [5,6]])\n",
    "print(data4.shape)#读取维度\n",
    "with tf.Session() as sess:\n",
    "    print(sess.run(data4))\n",
    "    print(sess.run(data4[0]))#打印行\n",
    "    print(sess.run(data4[:,0]))#打印列\n",
    "    print(sess.run(data4[0,0]))#打印单个位置\n",
    "    print(sess.run(data4[0:2,1]))"
   ]
  },
  {
   "cell_type": "code",
   "execution_count": 18,
   "metadata": {},
   "outputs": [
    {
     "name": "stdout",
     "output_type": "stream",
     "text": [
      "[[24]]\n",
      "[[9 9]]\n",
      "[[18 18]]\n",
      "[array([[24]]), array([[18, 18]])]\n",
      "end!\n"
     ]
    }
   ],
   "source": [
    "import tensorflow as tf\n",
    "data1=tf.constant([[6,6]])\n",
    "data2=tf.constant([[2],\n",
    "                   [2]])\n",
    "data3=tf.constant([[3,3]])\n",
    "data4=tf.constant([[1,2],\n",
    "                   [3,4],\n",
    "                   [5,6]])\n",
    "matMul=tf.matmul(data1,data2)\n",
    "matAdd=tf.add(data1,data3)\n",
    "matMul2=tf.multiply(data1,data3)#对应元素相乘\n",
    "with tf.Session() as sess:\n",
    "    print(sess.run(matMul))\n",
    "    print(sess.run(matAdd))\n",
    "    print(sess.run(matMul2))\n",
    "    print(sess.run([matMul,matMul2]))#打印多个结果\n",
    "print('end!')"
   ]
  },
  {
   "cell_type": "code",
   "execution_count": 23,
   "metadata": {},
   "outputs": [
    {
     "name": "stdout",
     "output_type": "stream",
     "text": [
      "[[0. 0. 0.]\n",
      " [0. 0. 0.]]\n",
      "[[1. 1. 1.]\n",
      " [1. 1. 1.]]\n",
      "[[15 15 15]\n",
      " [15 15 15]]\n",
      "end!\n"
     ]
    }
   ],
   "source": [
    "#特殊矩阵初始化\n",
    "import tensorflow as tf\n",
    "mat0=tf.constant([[0,0,0],\n",
    "                 [0,0,0]])\n",
    "mat1=tf.zeros([2,3])#空矩阵\n",
    "mat2=tf.ones([2,3])#全1矩阵\n",
    "mat3=tf.fill([2,3],15)#填充矩阵\n",
    "with tf.Session() as sess:\n",
    "    print(sess.run(mat1))\n",
    "    print(sess.run(mat2))\n",
    "    print(sess.run(mat3))\n",
    "print('end!')    "
   ]
  },
  {
   "cell_type": "code",
   "execution_count": 28,
   "metadata": {},
   "outputs": [
    {
     "name": "stdout",
     "output_type": "stream",
     "text": [
      "[[0]\n",
      " [0]\n",
      " [0]]\n",
      "[0.        0.2       0.4       0.6       0.8       1.        1.2\n",
      " 1.4       1.6       1.8000001 2.       ]\n",
      "[[1.2574701  1.2026248  0.06965244]\n",
      " [0.9787611  0.5183581  1.7777085 ]]\n"
     ]
    }
   ],
   "source": [
    "import tensorflow as tf\n",
    "mat0=tf.constant([[2],\n",
    "                  [3],\n",
    "                  [4]])\n",
    "mat1=tf.zeros_like(mat0)#相同维度全0矩阵\n",
    "mat2=tf.linspace(0.0,2.0,11)#等距划分\n",
    "mat3=tf.random_uniform([2,3],-1,2)#随机矩阵 1 大小 2 最小 3 最大\n",
    "with tf.Session() as sess:\n",
    "    print(sess.run(mat1))\n",
    "    print(sess.run(mat2))\n",
    "    print(sess.run(mat3))"
   ]
  }
 ],
 "metadata": {
  "kernelspec": {
   "display_name": "Python 3",
   "language": "python",
   "name": "python3"
  },
  "language_info": {
   "codemirror_mode": {
    "name": "ipython",
    "version": 3
   },
   "file_extension": ".py",
   "mimetype": "text/x-python",
   "name": "python",
   "nbconvert_exporter": "python",
   "pygments_lexer": "ipython3",
   "version": "3.7.0"
  }
 },
 "nbformat": 4,
 "nbformat_minor": 5
}
